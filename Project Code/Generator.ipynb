{
 "cells": [
  {
   "cell_type": "code",
   "execution_count": null,
   "metadata": {
    "id": "fb24647a"
   },
   "outputs": [],
   "source": [
    "import numpy as np\n",
    "import matplotlib.pyplot as plt\n",
    "from mpl_toolkits import mplot3d\n",
    "from tensorflow_probability.substrates import numpy as tfp\n",
    "tfd = tfp.distributions\n",
    "import tqdm\n",
    "import seaborn as sns\n",
    "import bisect"
   ]
  },
  {
   "cell_type": "code",
   "execution_count": null,
   "metadata": {
    "id": "89890ab4"
   },
   "outputs": [],
   "source": [
    "\n",
    "def perturb_normal_mixture(orig_means, orig_variances, orig_weights, \n",
    "                           comp_out=100, alpha=500):\n",
    "    \"\"\"\n",
    "    Returns a perturbation of a mixture:\n",
    "    \n",
    "    Given a mixture\n",
    "            f(y) = \\sum_j w_j N(y | \\mu_j, \\Sigma_j)\n",
    "    returns\n",
    "            f'(y) = \\sum_k w'_k N(y | \\mu'_j, 0.2^2 * I)\n",
    "    where\n",
    "    1. mu'_k are the new location centers, obtained by sampling\n",
    "            c_k ~ Categorical(w_1, .. w_J)\n",
    "            mu'_k | c_k ~ N(mu_{c_k}, \\Sigma_{c_k})\n",
    "              for k=1, ... comp_out\n",
    "    2. w'_k are normalized weights (sum to 1) and their length\n",
    "       is `comp_out` \n",
    "           w_k ~ Dirichlet(alpha/comp_out)\n",
    "    \n",
    "    \"\"\"\n",
    "    univariate = len(orig_means.shape) == 1\n",
    "    \n",
    "    c_ks = np.random.choice(\n",
    "        len(orig_weights), size=comp_out, replace=True, p=orig_weights)\n",
    "    \n",
    "    if univariate:\n",
    "        locations = tfd.Normal(orig_means[c_ks], np.sqrt(orig_variances)[c_ks]).sample()\n",
    "        variances = np.ones(comp_out) * 0.2 ** 2\n",
    "    else:\n",
    "        locations = tfd.MultivariateNormalFullCovariance(\n",
    "            orig_means[c_ks], np.sqrt(orig_variances)[c_ks]).sample()\n",
    "        variances = np.stack([np.eye(orig_means.shape[1]) * 1 ** 2] * comp_out)\n",
    "    weights = tfd.Dirichlet(np.ones(comp_out) * alpha / comp_out).sample()\n",
    "    return locations, variances, weights\n",
    "\n",
    "def eval_univariate_mixture_dens(locations, variances, weights, xgrid):\n",
    "    eval_comps = tfd.Normal(locations, np.sqrt(variances)).prob(xgrid[:, np.newaxis])\n",
    "    return np.sum(eval_comps * weights, axis=1)\n",
    "\n",
    "def eval_multivariate_mixture_dens(locations, variances, weights, xgrid):\n",
    "    eval_comps = tfd.MultivariateNormalFullCovariance(locations, np.sqrt(variances)).prob(xgrid[:, np.newaxis])\n",
    "    return np.sum(eval_comps * weights, axis=1)\n"
   ]
  },
  {
   "cell_type": "code",
   "execution_count": null,
   "metadata": {
    "id": "6b21b7c5"
   },
   "outputs": [],
   "source": [
    "#Univariate Data\n",
    "true_mu = np.array([-3.5, 3, 0, 6])\n",
    "true_sigma = np.array([0.8, 0.5, 0.4, 0.5]) ** 2\n",
    "w_t = np.array([0.25, 0.25, 0.3, 0.2])\n",
    "xgrid = np.linspace(-10, 10, 1000)\n",
    "\n",
    "pert_mu, pert_sigma, pert_w = perturb_normal_mixture(true_mu, true_sigma, w_t)\n",
    "plt.plot(xgrid, eval_univariate_mixture_dens(true_mu, true_sigma, w_t, xgrid))\n",
    "plt.plot(xgrid, eval_univariate_mixture_dens(pert_mu, pert_sigma, pert_w , xgrid))"
   ]
  },
  {
   "cell_type": "code",
   "execution_count": null,
   "metadata": {
    "id": "ee49ebd9"
   },
   "outputs": [],
   "source": [
    "\n",
    "\n",
    "#Multivariate Data\n",
    "true_mu_bi = np.array([  [-5,-5] , [5,5]  ])\n",
    "true_sigma_bi = np.array([  [[1,0] , [0, 1]] ,   [[1 , 0] , [0 , 1]]  ])\n",
    "w_t_bi = np.array([0.5, 0.5])\n",
    "grid_1D = np.linspace(-10, 10, 100)\n",
    "grid_2D = np.array([[x0, y0] for x0 in grid_1D for y0 in grid_1D])\n",
    "X,Y = np.meshgrid(grid_1D,grid_1D) \n",
    "\n",
    "#Few components otherwise computations are very long\n",
    "#Also the grid of points is less refined\n",
    "pert_mu_bi, pert_sigma_bi, pert_w_bi = perturb_normal_mixture(true_mu_bi, true_sigma_bi, w_t_bi,comp_out = 100)\n",
    "fig = plt.figure()\n",
    "ax = plt.axes(projection='3d')\n",
    "ax.contour3D(X, Y,np.reshape(eval_multivariate_mixture_dens(true_mu_bi, true_sigma_bi, w_t_bi, grid_2D), newshape = X.shape) , 50, cmap='viridis')\n",
    "ax.set_title('Original Mixture');\n",
    "\n",
    "fig = plt.figure()\n",
    "ax = plt.axes(projection='3d')\n",
    "ax.contour3D(X, Y,np.reshape(eval_multivariate_mixture_dens(pert_mu_bi, pert_sigma_bi, pert_w_bi, grid_2D), newshape = X.shape) , 50, cmap='viridis')\n",
    "ax.set_title('Perturbed Mixture');\n",
    "\n",
    "#Attention\n",
    "#I generate the grid_2D with a for loop, and it is vector of coordinates,so grid_2D=[[x_1,y_1], ... [x_n,y_n]]\n",
    "#To plot in 3D however i need to construct a grid using np.meshgrid and evaluate the densities over this grid,\n",
    "#which is constructed differently from grid_2D.\n",
    "#However, .prob(..) only works on grid_2D, so i reshape the output of eval_multivariate_mixture_dens \n",
    "# to have the same shape of the np.meshgrid, and it seems to reorder the points correctly, but it is lucky or wrong\n",
    "\n"
   ]
  },
  {
   "cell_type": "code",
   "execution_count": null,
   "metadata": {
    "id": "OvdrLtpO_IZ_"
   },
   "outputs": [],
   "source": [
    "#evaluation of the mixtures\n",
    "z_true = np.reshape(eval_multivariate_mixture_dens(true_mu_bi, true_sigma_bi, w_t_bi, grid_2D), newshape = X.shape)\n",
    "z_pert = np.reshape(eval_multivariate_mixture_dens(pert_mu_bi, pert_sigma_bi, pert_w_bi, grid_2D), newshape = X.shape)"
   ]
  },
  {
   "cell_type": "code",
   "execution_count": null,
   "metadata": {
    "id": "7AqAa-nx_iPW"
   },
   "outputs": [],
   "source": [
    "#plot 3D of the distributions with plotly\n",
    "import plotly.graph_objects as go\n",
    "fig = go.Figure(data=[go.Surface(z=z_pert, x=X, y=Y,colorscale=[[0, 'rgb(194,207,249)'], [1, 'rgb(76,115,241)']],lighting=dict(diffuse=0.1,ambient=0.9,fresnel=4.5))])\n",
    "\n",
    "fig.update_layout(title='Perturbed distributions', autosize=False,\n",
    "                  width=500, height=500,\n",
    "                  margin=dict(l=65, r=50, b=65, t=90))\n",
    "fig.show()\n",
    "\n",
    "fig = go.Figure(data=[go.Surface(z=z_true, x=X, y=Y,colorscale=[[0, 'rgb(194,207,249)'], [1, 'rgb(76,115,241)']],lighting=dict(diffuse=0.1,ambient=0.9,fresnel=4.5))])\n",
    "fig.update_layout(title='True distributions', autosize=False,\n",
    "                  width=500, height=500,\n",
    "                  margin=dict(l=65, r=50, b=65, t=90))\n",
    "fig.show()"
   ]
  },
  {
   "cell_type": "code",
   "execution_count": null,
   "metadata": {
    "id": "d26f268d"
   },
   "outputs": [],
   "source": [
    "#Univariate Sampling\n",
    "summed_pert_w = [ sum(pert_w[:x]) for x in range(0, len(pert_w))]\n",
    "s = np.random.uniform(0,1,1000)\n",
    "idx_to_sample=[bisect.bisect_left(summed_pert_w, sample)-1 for sample in s]\n",
    "sampled_df = np.array([tfd.Normal(pert_mu[idx], pert_sigma[idx]).sample() for idx in idx_to_sample])\n",
    "\n",
    "sns.histplot(data=sampled_df)\n",
    "sns.kdeplot(data=sampled_df)"
   ]
  },
  {
   "cell_type": "code",
   "execution_count": null,
   "metadata": {
    "id": "e0237b5f"
   },
   "outputs": [],
   "source": [
    "#Multivariate Sampling\n",
    "chosen_components = tfd.Categorical(probs = pert_w_bi).sample(1000)\n",
    "samples = []\n",
    "for i in range(len(chosen_components)):\n",
    "    samples.append(tfd.MultivariateNormalFullCovariance(pert_mu_bi[chosen_components[i]], pert_sigma_bi[chosen_components[i]]).sample())\n",
    "    \n",
    "\n",
    "sampled_df = np.array(samples)\n"
   ]
  },
  {
   "cell_type": "code",
   "execution_count": null,
   "metadata": {
    "id": "01e39fcf"
   },
   "outputs": [],
   "source": [
    "#Multivariate Sampling from true densities\n",
    "chosen_components = tfd.Categorical(probs = w_t_bi).sample(1000)\n",
    "samples = []\n",
    "for i in range(len(chosen_components)):\n",
    "    samples.append(tfd.MultivariateNormalFullCovariance(true_mu_bi[chosen_components[i]], true_sigma_bi[chosen_components[i]]).sample())\n",
    "    \n",
    "\n",
    "sampled_df = np.array(samples)\n",
    "np.save('sampled_2D_two_clusters_true.npy', sampled_df)"
   ]
  },
  {
   "cell_type": "code",
   "execution_count": null,
   "metadata": {
    "id": "47441cca",
    "outputId": "973cd11b-729a-4760-abd0-40dec82ab901"
   },
   "outputs": [
    {
     "data": {
      "text/plain": [
       "<AxesSubplot:>"
      ]
     },
     "execution_count": 6,
     "metadata": {},
     "output_type": "execute_result"
    },
    {
     "data": {
      "image/png": "[encoded data removed]",
      "text/plain": [
       "<Figure size 432x288 with 1 Axes>"
      ]
     },
     "metadata": {
      "needs_background": "light"
     },
     "output_type": "display_data"
    }
   ],
   "source": [
    "sns.scatterplot(x=[elem[0] for elem in sampled_df], y=[elem[1] for elem in sampled_df],)"
   ]
  },
  {
   "cell_type": "code",
   "execution_count": null,
   "metadata": {
    "id": "0abf3236"
   },
   "outputs": [],
   "source": [
    "true = np.reshape(eval_multivariate_mixture_dens(true_mu_bi, true_sigma_bi, w_t_bi, grid_2D), newshape = X.shape)"
   ]
  },
  {
   "cell_type": "code",
   "execution_count": null,
   "metadata": {
    "id": "816327ce"
   },
   "outputs": [],
   "source": [
    "perturbed = np.reshape(eval_multivariate_mixture_dens(pert_mu_bi, pert_sigma_bi, pert_w_bi, grid_2D), newshape = X.shape)"
   ]
  }
 ],
 "metadata": {
  "colab": {
   "collapsed_sections": [],
   "name": "Generator.ipynb",
   "provenance": [],
   "toc_visible": true
  },
  "kernelspec": {
   "display_name": "Python 3",
   "language": "python",
   "name": "python3"
  },
  "language_info": {
   "codemirror_mode": {
    "name": "ipython",
    "version": 3
   },
   "file_extension": ".py",
   "mimetype": "text/x-python",
   "name": "python",
   "nbconvert_exporter": "python",
   "pygments_lexer": "ipython3",
   "version": "3.7.3"
  }
 },
 "nbformat": 4,
 "nbformat_minor": 5
}
