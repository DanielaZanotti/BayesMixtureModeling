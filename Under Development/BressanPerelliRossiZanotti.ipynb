{
 "cells": [
  {
   "cell_type": "code",
   "execution_count": 2,
   "metadata": {},
   "outputs": [
    {
     "data": {
      "application/javascript": [
       "MathJax.Hub.Config({\n",
       "    TeX: { equationNumbers: { autoNumber: \"AMS\" } }\n",
       "});\n"
      ],
      "text/plain": [
       "<IPython.core.display.Javascript object>"
      ]
     },
     "metadata": {},
     "output_type": "display_data"
    }
   ],
   "source": [
    "%%javascript\n",
    "MathJax.Hub.Config({\n",
    "    TeX: { equationNumbers: { autoNumber: \"AMS\" } }\n",
    "});"
   ]
  },
  {
   "cell_type": "code",
   "execution_count": 3,
   "metadata": {
    "pycharm": {
     "is_executing": true
    }
   },
   "outputs": [],
   "source": [
    "import numpy as np\n",
    "import matplotlib.pyplot as plt\n",
    "import seaborn as sns\n",
    "\n",
    "from tensorflow_probability.substrates import numpy as tfp\n",
    "tfd = tfp.distributions\n",
    "\n",
    "np.random.seed(0)"
   ]
  },
  {
   "cell_type": "markdown",
   "metadata": {},
   "source": [
    "# Mixture Modelling\n",
    "\n",
    "## aka modelling heterogeneity\n",
    "\n",
    "$\\newcommand{\\iid}{\\stackrel{\\mbox{iid}}{\\sim}}$\n",
    "\n",
    "\n",
    "In mixture model, we account for heterogeneity in the data by assuming that there is not \"one single\" data generating process, but actually K of them.\n",
    "\n",
    "Therefore, we expect to find K different subpopulations (== clusters) in our data, and that each subpopulation is homogeneous: it is suitably modeled by a density, typically from a parametric family.\n",
    "\n",
    "In its most general form, let $f_1(\\cdot), \\ldots, f_K(\\cdot)$ be $K$ probability density functions over a space $\\mathbb{Y}, \\mathcal{Y}$, $\\mathbf{w} = (w_1, \\ldots, w_K)$ a vector in the $K$-simplex; a mixture model assumes the following likelihood\n",
    "\n",
    "\\begin{equation}\n",
    "    y_1, \\ldots, y_n \\mid \\mathbf{w}, \\{f_j\\}_{j=1}^K \\iid f^*(y) := \\sum_{j=1}^K w_j f_j(y)\n",
    "    \\tag{1}\n",
    "\\end{equation}\n",
    "\n",
    "We refer to the $f_j$'s as the _components_ of the mixture"
   ]
  },
  {
   "cell_type": "markdown",
   "metadata": {},
   "source": [
    "$\\newcommand{\\ind}{\\stackrel{\\small \\mbox{ind}}{\\sim}}$\n",
    "\n",
    "The connection to clustering is made more explicit by introducing \"cluster assignment\" variables $c_i$, $i=1, \\ldots, n$ such that\n",
    "$$\n",
    "    P(c_i = h \\mid \\mathbf{w}) = w_h\n",
    "$$\n",
    "\n",
    "Then, the mixture likelihood can be restated as the following hierarchical model\n",
    "\n",
    "\\begin{equation}\n",
    "    \\begin{aligned}\n",
    "        y_i \\mid c_i = h, \\{f_j\\}_{j=1}^K & \\ind f_h \\\\\n",
    "        P(c_i = h \\mid \\mathbf{w}) = w_h\n",
    "    \\end{aligned}\n",
    "    \\tag{2}\n",
    "\\end{equation}"
   ]
  },
  {
   "cell_type": "markdown",
   "metadata": {},
   "source": [
    "Usually, $\\{f_j\\}_{j=1}^K$ belong to the same parametric family (e.g., the normal distribution), and differ only for the specific values of the parameters (e.g., every component has a different mean/variance). But this might not always be the case."
   ]
  },
  {
   "cell_type": "markdown",
   "metadata": {},
   "source": [
    "# Exercise 1: Gaussian Mixture Model\n",
    "\n",
    "Consider the dataset in the file \"gestational_age_data.csv\", that contains the gestational age of more than two thousand children (in days).\n",
    "\n",
    "We can model the data using a mixture of three gaussian distributions.\n",
    "\n",
    "\\begin{equation*}\n",
    "    y_1, \\ldots, y_n \\mid \\mathbf{w}, \\mathbf{\\mu}, \\mathbf{\\sigma}^2 \\iid \\sum_{h=1}^3 w_h \\mathcal{N}(\\mu_h, \\sigma^2_h) \n",
    "\\end{equation*}\n",
    "\n",
    "\n",
    "1.1) Describe a simple prior for $\\mathbf{w}$\n",
    "\n",
    "1.2) Using the likelihood in (2), derive the full conditional for $\\mathbf{w}$\n",
    "\n",
    "1.3) What is a simple semi-conjugate prior for $(\\mu_h, \\sigma_h^2)$. Derive the full conditional for these parameters\n",
    "\n",
    "1.4) Describe a Gibbs sampler that alternates between updating the $c_i$'s, the weights $\\mathbf w$ and the \"unique values\" $(\\mu_1, \\sigma_1^2), \\ldots (\\mu_K, \\sigma_K^2)$ where in this example $K=3$.\n",
    "\n",
    "\n",
    "1.5) Complete the model by specifying a prior such that the expected value of each $\\mu_h$ is equal to the empirical/sample mean and the expected value of each $\\sigma^2_h$ is equal to one half of the sample variance. Choose the remaining parameters \"wisely\"."
   ]
  },
  {
   "cell_type": "markdown",
   "metadata": {},
   "source": [
    "## Answer\n",
    "\n",
    "1.1)\n",
    "\\begin{equation}\n",
    "\\begin{aligned}\n",
    "    \\mathbf{w} &\\sim \\text{Dirichlet}(\\alpha_1,\\alpha_2 , \\alpha_{3}) \\\\\n",
    "\\end{aligned}\n",
    "\\end{equation}\n",
    "\n",
    "1.2)\n",
    "\n",
    "$$\n",
    "    \\mathcal{L}(\\mathbf{w} \\mid \\mathbf{\\mu}, \\mathbf{c}, \\mathbf{\\sigma}^2, \\mathbf{y}) \\propto \\prod_{h=1}^{3} \\mathcal{w_h}^\\mathcal{\\alpha_h - 1 + \\mathcal{n_h}}\\\\\n",
    "\\mathcal{n_h} =\\sum_{i=1}^{n}\\mathbb{1}{\\{\\mathcal{c_i = h}\\}}\\\\\n",
    "\\mathbf{w} \\mid \\mathbf{\\mu}, \\mathbf{c}, \\mathbf{\\sigma}^2, \\mathbf{y} \\iid \\text{Dirichlet}(\\alpha_1 + n_1,\\alpha_2 + n_2, \\alpha_{3}+ n_3) \n",
    "$$\n",
    "\n",
    "1.3)\n",
    "\\begin{equation*}\n",
    "    (\\mu_K, \\sigma_K^2) \\iid \\mathcal{N-InvGamma}(\\mu_0, \\lambda, \\alpha, \\beta) \n",
    "\\end{equation*}\n",
    "\\begin{equation*}\n",
    "     \\mu_h \\mid \\mathbf{c}, \\mathbf{y}, \\mathbf{\\sigma}^2 \\iid \\mathcal{N}((\\frac{\\sum_{i=1 : c_i=h} y_i +\\lambda*\\mu_0}{(n_h + lambda)} , \\sigma^2_h) \n",
    "\\end{equation*}\n",
    "\\begin{equation*}\n",
    "     \\mathbf{\\sigma_h}^2 \\mid \\mathbf{c}, \\mathbf{y}, \\mathbf{\\mu} \\iid \\mathcal{InvGamma}( \\alpha + \\frac{n_h+1}{2} , 0.5 * (\\sum_{i=1 : c_i=h} (y_i-\\mu_h)^2 + 2*\\beta + \\lambda*(\\mu_h-\\mu_0)^2) \n",
    "\\end{equation*}\n",
    "\n",
    "1.4)\n",
    "For every parameter, set an initial value. Then, we iteratively sample from each full conditional, as the following: \n",
    "\n",
    "For every h compute: \n",
    "\n",
    "\n",
    "\n",
    "$$\n",
    "\\mathcal{n_h} =\\sum_{i=1}^{n}\\mathbb{1}{\\{\\mathcal{c_i = h}\\}}\\\\\n",
    "$$\n",
    "\n",
    "Sample the new weights as\n",
    "\n",
    "$$\n",
    "\\mathbf{w} \\mid \\mathbf{\\mu}, \\mathbf{c}, \\mathbf{\\sigma}^2, \\mathbf{y} \\iid \\text{Dirichlet}(\\alpha_1 + n_1,\\alpha_2 + n_2, \\alpha_{3}+ n_3) \n",
    "$$\n",
    "\n",
    "Sample the new means\n",
    "\n",
    "$$\n",
    "\\begin{equation*}\n",
    "\\mu_h \\mid \\mathbf{c}, \\mathbf{y}, \\mathbf{\\sigma}^2 \\iid \\mathcal{N}((\\frac{\\sum_{i=1 : c_i=h} y_i +\\lambda*\\mu_0}{(n_h + lambda)} , \\sigma^2_h) \n",
    "\\end{equation*}\n",
    "$$\n",
    "\n",
    "Sample the new variances\n",
    "$$\n",
    "\\begin{equation*}\n",
    "     \\mathbf{\\sigma_h}^2 \\mid \\mathbf{c}, \\mathbf{y}, \\mathbf{\\mu} \\iid \\mathcal{InvGamma}( \\alpha + \\frac{n_h+1}{2} , 0.5 * (\\sum_{i=1 : c_i=h} (y_i-\\mu_h)^2 + 2*\\beta + \\lambda*(\\mu_h-\\mu_0)^2) \n",
    "\\end{equation*}\n",
    "$$\n"
   ]
  },
  {
   "cell_type": "code",
   "execution_count": 6,
   "metadata": {},
   "outputs": [
    {
     "data": {
      "image/png": "[encoded data removed]",
      "text/plain": [
       "<Figure size 432x288 with 1 Axes>"
      ]
     },
     "metadata": {
      "needs_background": "light"
     },
     "output_type": "display_data"
    }
   ],
   "source": [
    "data = np.loadtxt(\"gestational_age_data.csv\")\n",
    "np.random.shuffle(data)\n",
    "data = data[:1000]\n",
    "sns.histplot(data)\n",
    "plt.show()"
   ]
  },
  {
   "cell_type": "code",
   "execution_count": 26,
   "metadata": {},
   "outputs": [],
   "source": [
    "m=np.mean(data)\n",
    "v=np.var(data)/2"
   ]
  },
  {
   "cell_type": "code",
   "execution_count": 7,
   "metadata": {},
   "outputs": [],
   "source": [
    "def run_one_gibbs(data, cluster_allocs, uniq_vals, weights):\n",
    "    \"\"\"\n",
    "    Runs one iteration of the gibbs sampler\n",
    "    Parameters\n",
    "    ----------\n",
    "    data: a numpy array of floats, contains the observations\n",
    "    cluster_allocs: a numpy array of integers, contains the c_i's(same length of data)\n",
    "    uniq_vals: a numpy array of size [K, 2], contains (mean, variance) for every component\n",
    "    weights: a numpy array of size [K], contains the weights of the components\n",
    "    \"\"\"\n",
    "    \n",
    "    n_clus = len(weights)\n",
    "    \n",
    "    for h in range(n_clus):\n",
    "        clusdata = data[cluster_allocs == h]\n",
    "        if len(clusdata) == 0:\n",
    "            uniq_vals[h, :] = sample_uniq_vals_prior()\n",
    "        else:\n",
    "            uniq_vals[h, :] = sample_uniq_vals_fullcond(clusdata)\n",
    "    \n",
    "    cluster_allocs = update_cluster_allocs(data, weights, uniq_vals)\n",
    "    \n",
    "    weights = update_weights(cluster_allocs, n_clus)\n",
    "    \n",
    "    return cluster_allocs, uniq_vals, weights\n",
    "\n",
    "\n",
    "\n",
    "def run_mcmc(data, niter=7500, nburn=2500, thin=5):\n",
    "    cluster_allocs = tfd.Categorical(probs=np.ones(3) / 3).sample(len(data))\n",
    "    weights = np.ones(3) / 3\n",
    "    \n",
    "    # TODO Complete by sampling from an appropriate distribution\n",
    "    uniq_vals = np.dstack([\n",
    "        tfd.Normal(np.mean(np.array(data)), 20).sample(3),\n",
    "        tfd.InverseGamma(pow(np.var(data),2)/20 +2, pow(np.var(data),3)/40+np.var(data)/2).sample(3)])[0, :, :]\n",
    "    \n",
    "    allocs_out = []\n",
    "    uniq_vals_out = []\n",
    "    weights_out = []\n",
    "    \n",
    "    for i in range(niter):\n",
    "        cluster_allocs, uniq_vals, weights = run_one_gibbs(\n",
    "            data, cluster_allocs, uniq_vals, weights)\n",
    "        \n",
    "        if i > nburn and i % thin == 0:\n",
    "            allocs_out.append(cluster_allocs)\n",
    "            uniq_vals_out.append(uniq_vals)\n",
    "            weights_out.append(weights)\n",
    "            \n",
    "        if i % 10 == 0:\n",
    "            print(\"\\rIter {0} / {1}\".format(i+1, niter), flush=True, end=\" \")\n",
    "            \n",
    "    return allocs_out, uniq_vals_out, weights_out"
   ]
  },
  {
   "cell_type": "code",
   "execution_count": 36,
   "metadata": {},
   "outputs": [],
   "source": [
    "from tensorflow_probability.substrates import numpy as tfp\n",
    "tfd = tfp.distributions\n",
    "\n",
    "\n",
    "def update_cluster_allocs(data, weights, uniq_vals):\n",
    "    # Hint: the update of each c_i can be done independently of\n",
    "    # the other c_j's (j != i) ---> Use numpy broadcasting /vectorizaiton\n",
    "    # to speed up the code\n",
    "    # Hint: you might need to evaluate the likelihood of each observation\n",
    "    # with parameters in each cluster. The following snippet returns a\n",
    "    # [n, K] matrix with [i, j]-entry equal to log_prob(y_i | \\mu_j, \\sigma^2_j)\n",
    "    \n",
    "    logprobs = tfd.Normal(\n",
    "        uniq_vals[:, 0], np.sqrt(uniq_vals[:, 1])).log_prob(data[:, np.newaxis])\n",
    "    \n",
    "    # TODO: probs should be a [n, 3] matrix with [i, j]-entry equal to\n",
    "    # P(c_i = j | all the rest)\n",
    "    logprobs += np.log(weights)\n",
    "    probs =  np.exp(logprobs)/np.sum(np.exp(logprobs))\n",
    "    return tfd.Categorical(probs=probs).sample()\n",
    "\n",
    "\n",
    "def update_weights(cluster_allocs, n_clus):\n",
    "    # Hint: you might need to count how many observations are in each cluster\n",
    "    # you can use the following code\n",
    "    n_by_clus = np.array([np.sum(cluster_allocs == h) for h in range(n_clus)])\n",
    "\n",
    "    \n",
    "    post_params = np.ones(3) / 3 + n_by_clus\n",
    "    return tfd.Dirichlet(post_params.astype(float)).sample()\n",
    "\n",
    "\n",
    "def sample_uniq_vals_prior():\n",
    "    # TODO: choose appropriate variables and parameters\n",
    "    \n",
    "    alpha_0=pow(v,2)/20 +2\n",
    "    beta_0=pow(v,3)/40+v/2\n",
    "    var = tfd.InvGamma(alpha_0,beta_0).sample()\n",
    "    mu = tfd.Normal(np.mean(data), 20).sample()\n",
    "    return np.array([mu, var])\n",
    "    \n",
    "\n",
    "def sample_uniq_vals_fullcond(clusdata):\n",
    "    # TODO: compute the full conditional parameters\n",
    "    \n",
    "    alpha_0=pow(v,2)/20 +2\n",
    "    beta_0=pow(v,3)/40+v/2\n",
    "    var = tfd.InverseGamma(alpha_0 + 0.5*(len(clusdata)+1), 0.5*(np.sum((clusdata-np.ones(len(clusdata))*np.mean(clusdata))**2) + 2*beta_0 + (np.mean(clusdata)-np.mean(data))**2)).sample()\n",
    "    mu = tfd.Normal((np.sum(clusdata)+np.mean(data))/(len(clusdata)+1), var/(len(clusdata)+1)).sample()\n",
    "    return np.array([mu, var])"
   ]
  },
  {
   "cell_type": "code",
   "execution_count": 37,
   "metadata": {},
   "outputs": [
    {
     "name": "stdout",
     "output_type": "stream",
     "text": [
      "Iter 7491 / 7500 "
     ]
    }
   ],
   "source": [
    "allocs_out, uniq_vals_out, weights_out = run_mcmc(data)"
   ]
  },
  {
   "cell_type": "code",
   "execution_count": 38,
   "metadata": {},
   "outputs": [
    {
     "data": {
      "image/png": "[encoded data removed]",
      "text/plain": [
       "<Figure size 432x288 with 1 Axes>"
      ]
     },
     "metadata": {
      "needs_background": "light"
     },
     "output_type": "display_data"
    }
   ],
   "source": [
    "plt.hist(data, density=True, alpha=0.1)\n",
    "for h in range(3):\n",
    "    currd = data[allocs_out[-1] == h]\n",
    "    plt.scatter(currd, np.zeros_like(currd) + 0.001 * (h+1))"
   ]
  },
  {
   "cell_type": "markdown",
   "metadata": {},
   "source": [
    "# Exercise 2: Posterior inference in Mixture Models\n",
    "\n",
    "Mixture models are subject to the so called \"label switching\", which causes non-identifiability for all the parameters.\n",
    "\n",
    "Label switching means that permuting the \"labels\" {1, 2, ..., K} of the cluster yields the same exact likelihood.\n",
    "Hence, it does not make sense to talk about \"first\", \"second\" and \"third\" cluster.\n",
    "Moreover, also interpretation of the cluster parameters is tricky: we cannot say that\n",
    "\n",
    "$$\n",
    "    \\frac{1}{M} \\sum_{j=1}^M \\mu^{(j)}_1\n",
    "$$\n",
    "\n",
    "is an estimate of parameter $\\mu_1$. Also, it does not make sense to take averages of the cluster allocation labels.\n",
    "\n",
    "There are several ways to solve this non-identifiability issue, we will focus here on a decision-theoretic approach.\n",
    "\n",
    "\n",
    "2.1) Implement a function that finds the clustering, among the ones visited in the MCMC chain, that minimizes Binder's loss function:\n",
    "\n",
    "$$\n",
    "    \\sum_{i=1}^n \\sum_{j=1}^n (\\mathbb I [c_i = c_j] - p_{ij})^2\n",
    "$$\n",
    "where $p_{ij}$ is the posterior probability that observations $i$ and $j$ belong to the same cluster.\n",
    "\n",
    "Note that $p_{ij}$ can be easily estimated from the MCMC chains!\n",
    "\n",
    "2.2) Given the estimated clustering $\\mathbf{c}^*$, estimate the parameters in each cluster. Let $c^*_h$ denote the index-set of the $h$--th cluster (e.g., $c^*_1 = \\{1, 3, 10\\}$, $c^*_2 = \\{0, 2, 4, 5, 6\\}$ ...)\n",
    "Then\n",
    "$$\n",
    "    \\hat \\mu_h = \\frac{1}{M} \\sum_{j=1}^M \\frac{1}{\\# c^*_h} \\sum_{i \\in c^*_h} \\mu^{(j)}_{c_i}\n",
    "$$\n",
    "where $\\mu^{(j)}_\\ell$  is the mean parameter in the $\\ell$--th cluster at the $j$--th MCMC iteration.\n",
    "\n",
    "Similarly for the variance $\\hat \\sigma_h^2$.\n",
    "\n",
    "2.3) Comment on the posterior inference obtained"
   ]
  },
  {
   "cell_type": "code",
   "execution_count": 39,
   "metadata": {},
   "outputs": [],
   "source": [
    "def get_psm(clus_alloc_chain):\n",
    "    \"\"\"\n",
    "    Returns the posterior similarity matrix, i.e.\n",
    "        out[i, j] = P(c_i == c_j | all the rest)\n",
    "    for each pair of observations\n",
    "    \"\"\"\n",
    "    #Fare confronto tra colonna i e j della matrice e poi calcolare da li\n",
    "    c_chain = np.vstack(clus_alloc_chain)\n",
    "    out = np.zeros((c_chain.shape[1], c_chain.shape[1]))\n",
    "    for i in range(c_chain.shape[1]):\n",
    "        for j in range(c_chain.shape[1]):\n",
    "            out[i,j] = np.sum(c_chain[:,i] == c_chain[:,j]) / c_chain.shape[0]\n",
    "            \n",
    "    return out\n",
    "\n",
    "\n",
    "def minbinder_sample(clus_alloc_chain, psm):\n",
    "    \"\"\"\n",
    "    Finds the iteration for which the Binder loss is minimized\n",
    "    and returns the associated clustering\n",
    "    \"\"\"\n",
    "    losses = np.zeros(len(clus_alloc_chain))\n",
    "    c_chain = np.vstack(clus_alloc_chain)\n",
    "    \n",
    "    # You can either cycle through the iterations, or \n",
    "    # cycle through the entries in the PSM [i, j]\n",
    "    # and vectorize the same operation for each iteration!\n",
    "    \n",
    "    mat = np.zeros( ( c_chain.shape[0], c_chain.shape[1]**2 ) )\n",
    "    k = 0\n",
    "    for i in range(c_chain.shape[1]):\n",
    "        for j in range(c_chain.shape[1]):\n",
    "            mat[:,k] = ( (c_chain[:,i] == c_chain[:,j]).astype(int) - psm[i,j] * np.ones(c_chain.shape[0]) ) **2\n",
    "            k = k+1\n",
    "    \n",
    "    losses = np.sum(mat, axis = 1)\n",
    "    \n",
    "    best_iter = np.argmin(losses)\n",
    "    return clus_alloc_chain[best_iter]"
   ]
  },
  {
   "cell_type": "code",
   "execution_count": 40,
   "metadata": {},
   "outputs": [],
   "source": [
    "psm = get_psm(allocs_out)"
   ]
  },
  {
   "cell_type": "code",
   "execution_count": 41,
   "metadata": {},
   "outputs": [],
   "source": [
    "best_clus = minbinder_sample(allocs_out, psm)"
   ]
  },
  {
   "cell_type": "code",
   "execution_count": 42,
   "metadata": {},
   "outputs": [
    {
     "data": {
      "image/png": "[encoded data removed]",
      "text/plain": [
       "<Figure size 432x288 with 1 Axes>"
      ]
     },
     "metadata": {
      "needs_background": "light"
     },
     "output_type": "display_data"
    }
   ],
   "source": [
    "plt.hist(data, density=True, alpha=0.3)\n",
    "for h in range(3):\n",
    "    currd = data[best_clus == h]\n",
    "    plt.scatter(currd, np.zeros_like(currd) + 0.001 * (h+1))"
   ]
  },
  {
   "cell_type": "code",
   "execution_count": 43,
   "metadata": {},
   "outputs": [],
   "source": [
    "def unique_vals_given_clus(unique_vals_chain, clus_alloc_chain, best_clus):\n",
    "    c_allocs = np.stack(clus_alloc_chain)\n",
    "    uniq_vals = np.stack(unique_vals_chain)\n",
    "    means = uniq_vals[:, :, 0]\n",
    "    variances = uniq_vals[:, :, 1]\n",
    "    out = []\n",
    "    \n",
    "    for h in range(len(np.unique(best_clus))):\n",
    "        data_idx = np.where(best_clus == h)[0]\n",
    "        uniq_vals_idx = c_allocs[:, data_idx] # -> Matrix [n_iter x n_data_in_clus]\n",
    "        means_by_iter = np.empty((c_allocs.shape[0], len(data_idx)))\n",
    "        vars_by_iter = np.empty_like(means_by_iter)\n",
    "        for i in range(c_allocs.shape[0]):\n",
    "            means_by_iter[i, :] = means[i,uniq_vals_idx[i,:]]\n",
    "            vars_by_iter[i, :] = variances[i,uniq_vals_idx[i,:]]\n",
    "\n",
    "        avg_mean_by_iter = np.mean(means_by_iter , axis = 1)\n",
    "        avg_var_by_iter = np.mean(vars_by_iter , axis = 1)\n",
    "        \n",
    "        muhat = np.mean(avg_mean_by_iter)\n",
    "        sigsqhat = np.mean(avg_var_by_iter)\n",
    "        out.append(np.array([muhat, sigsqhat]))\n",
    "        \n",
    "    return out"
   ]
  },
  {
   "cell_type": "code",
   "execution_count": 44,
   "metadata": {},
   "outputs": [
    {
     "data": {
      "text/plain": [
       "[array([277.5112379 ,  86.40131196]),\n",
       " array([288.29537325,  86.36030694]),\n",
       " array([242.82142887,  89.57829282])]"
      ]
     },
     "execution_count": 44,
     "metadata": {},
     "output_type": "execute_result"
    }
   ],
   "source": [
    "clus_vals = unique_vals_given_clus(uniq_vals_out, allocs_out, best_clus)\n",
    "clus_vals"
   ]
  },
  {
   "cell_type": "code",
   "execution_count": 45,
   "metadata": {},
   "outputs": [],
   "source": [
    "weights = np.sum(best_clus == np.arange(3)[:, np.newaxis], axis=1) / len(data)"
   ]
  },
  {
   "cell_type": "code",
   "execution_count": 47,
   "metadata": {},
   "outputs": [
    {
     "data": {
      "text/plain": [
       "array([0.595, 0.297, 0.108])"
      ]
     },
     "execution_count": 47,
     "metadata": {},
     "output_type": "execute_result"
    }
   ],
   "source": [
    "weights"
   ]
  },
  {
   "cell_type": "code",
   "execution_count": 46,
   "metadata": {},
   "outputs": [
    {
     "data": {
      "image/png": "[encoded data removed]",
      "text/plain": [
       "<Figure size 432x288 with 1 Axes>"
      ]
     },
     "metadata": {
      "needs_background": "light"
     },
     "output_type": "display_data"
    }
   ],
   "source": [
    "plt.hist(data, density=True, alpha=0.1, bins=30)\n",
    "xx = np.linspace(np.min(data), np.max(data), 1000)\n",
    "out_dens = np.zeros_like(xx)\n",
    "for i in range(3):\n",
    "    comp_dens = tfd.Normal(clus_vals[i][0], np.sqrt(clus_vals[i][1])).prob(xx)\n",
    "    out_dens += weights[i] * comp_dens\n",
    "    plt.fill_between(xx, np.zeros_like(xx), weights[i] * comp_dens, alpha=0.6)\n",
    "\n",
    "plt.plot(xx, out_dens, c=\"black\", linewidth=3)\n",
    "plt.show()"
   ]
  },
  {
   "cell_type": "markdown",
   "metadata": {},
   "source": [
    "## Comment on the inference obtained\n",
    "\n",
    "The three clusters differ in mean (especially the green one, which has lower mean) and in numerosity (the blue one has a much higher cardinality)\n",
    "\n",
    "Their weights are (0.595, 0.297, 0.108): the blue cluster has a high weight because is the cluster with distribution most similar to the true one and it represents the most common behaviour that is expected during gestation, that is a birth around the 9th month.\n",
    "The green cluster is the one with the lowest weight since it represents the uncommon case of premature birth, whereas the orange one is strongly mixed with the blue one and it represents all the birth that happens after the due date.\n",
    "\n",
    "Hence we can conclude that the population can be divided in 3 groups: the majority of the people has a gestation around the 277 days, there is a group of people that has a little longer gestation, while the last group id composed of people with premature birth. \n",
    "Moreover we can say that there are very few person who has gestation longer than 300 days. "
   ]
  },
  {
   "cell_type": "markdown",
   "metadata": {},
   "source": [
    "# Exercise 3: Latent Dirichlet Allocation\n",
    "\n",
    "We now move to one of the most fundamental papers in Machine Learning / Text Mining: Latent Dirichlet Allocations by Blei et al (2003).\n",
    "\n",
    "The goal is topic modelling given a corpus (= collection of documents)\n",
    "\n",
    "Denote with $\\mathbf y_i = \\{y_{i1}, \\ldots, y_{i N_i}\\}$ the $i$--th document where each $y_{ij}$ denotes a word in a vocabulary, i.e. it is a categorical variable. Let $|V|$ be the size of the vocabulary (number of unique words) so that $y_{ij} \\in \\{1, 2, \\ldots, |V|\\}$, and $K$ the number of topics.\n",
    "\n",
    "For each topic $k$, we assume a different distribution over the vocabulary $\\beta_k = (\\beta_{k,1}, \\ldots \\beta_{k, |V|})$, where the vector $\\beta_k$ in the $|V|$-dimensional simplex encodes the probability of occurence of each word in topic $k$ (i.e., informally, $\\beta_{k, j} = P(\\text{\"we use word j when talking about topic k\"})$  \n",
    "\n",
    "Moreover, in each document more than one topic can be discussed. Denote with $w_i = (w_{i, 1}, \\ldots, w_{i, K})$ the weight of each topic in the $i$--th document.\n",
    "\n",
    "Then LDA assumes\n",
    "\n",
    "\\begin{equation}\n",
    "\\begin{aligned}\n",
    "    P(y_{i, j} = v \\mid \\{\\beta_k\\}_{k=1}^J, w_i) &= \\sum_{k=1}^K w_{i, k} \\beta_{k, v}, \\quad v=1, \\ldots, |V| \\\\\n",
    "    \\beta_k &\\sim \\text{Dirichlet}(\\alpha_1, \\ldots, \\alpha_{|V|}) \\\\\n",
    "    w_i & \\sim \\text{Dirichlet}(0.5, \\ldots, 0.5)\n",
    "\\end{aligned}\n",
    "\\label{eq:LDA} \\tag{3}\n",
    "\\end{equation}\n",
    "\n",
    "\n",
    "3.1) Rewrite the likelihood introducing suitable auxiliary variables $t_{ij}$ so that $w_i$ does appear on the right hand side of the first equation in \\eqref{eq:LDA}\n",
    "\n",
    "3.2) Specify the hyperparameters of the prior for the $\\beta_j$'s such that, a priori, the expected value of $\\beta_{j, v}$ is proportional to the number of times word $v$ appears in the corpus. What about the variance?\n",
    "\n",
    "3.3) Implement a Gibbs sampler to perform posterior inference. Instead of identifying the mixture parameters, consider only the last iteration of the MCMC. What can we say about the topics? "
   ]
  },
  {
   "cell_type": "markdown",
   "metadata": {},
   "source": [
    "### SOLUTIONS\n",
    "\n",
    "3.1) We introduce $t_{ij} \\sim \\text{Categorical}$ (one for each $y_{ij}$) so that\n",
    "\\begin{equation*}\n",
    "\\begin{aligned}\n",
    "    P(y_{ij} = v \\mid \\{\\beta_k\\}, t_{ij} = h) &= \\beta_{h, v} \\\\\n",
    "    P(t_{ij} = h \\mid w_i) &= \\text{w_i_h}\n",
    "\\end{aligned}\n",
    "\\end{equation*}\n",
    "\n",
    "\n",
    "3.2) We fix the expected value using the expected value of a Dirichlet. Every alpha_i is the number of times word i appears in the corpus over the total occurences of all words. \n",
    "\n",
    "To control the variance, call $d_v =  \\sum_{i=1}^D \\sum_{j=1}^{N_i} \\mathbb{I}[y_{ij} = v]$, so that $\\alpha_v = \\kappa d_v$."
   ]
  },
  {
   "cell_type": "markdown",
   "metadata": {},
   "source": [
    "3.3) The joint model is\n",
    "\\begin{equation*}\n",
    "\\begin{aligned}\n",
    "    \\mathcal{L}(\\{y_{ij}\\}, \\{\\beta_k\\}, \\{w_i\\}, \\{t_{ij}\\}) &= \\prod_{i=1}^D \\prod_{j=1}^{N_i} w_{i, t_{ij}} \\prod_{v=1}^{|V|} \\beta_{t_{ij}, v}^{\\mathbb{I}[y_{ij} = v]} \\\\\n",
    "    & \\times \\prod_{k=1}^K \\frac{1}{B(\\mathbf \\alpha)} \\prod_{v=1}^{|V|} \\beta_{k, v}^{\\alpha_v - 1} \\mathbb{I}[\\beta_k \\in S^{|V|}] \\\\\n",
    "    & \\times \\prod_{i=1}^D \\frac{1}{B(\\mathbf{0.5})} \\prod_{k=1}^{K} w_{i, k}^{0.5 - 1} \\mathbb{I}[w_i \\in S^{K}]\n",
    "\\end{aligned}\n",
    "\\end{equation*}"
   ]
  },
  {
   "cell_type": "markdown",
   "metadata": {},
   "source": [
    "Then it is easy to see that\n",
    "\n",
    "1)\n",
    "$$\n",
    "    \\mathcal{L}(w_i \\mid \\cdots) \\propto \\prod_{k=1}^{K} \\text{}\n",
    "$$\n",
    "\n",
    "Hint: rewrite \n",
    "\n",
    "$$\n",
    "    \\prod_{j=1}^{N_i} w_{i, t_{ij}} = \\prod_{k=1}^K w_{i, k}^{n_{i, k}}\n",
    "$$\n",
    "where $n_{i, k} = \\mathbb{I}[ t_{ij} = k]$.\n",
    "\n",
    "Finally, conclude that $w_i \\mid \\cdots \\sim \\text{Dirichlet (0.5 + sum(Indicator(t_i_j = k)))}$\n",
    "\n",
    "\n",
    "2) $$ \\mathcal{L}(\\beta_k \\mid \\cdots) \\propto \\text{TODO}\n",
    "   $$\n",
    "   \n",
    "   Hence $\\beta_k \\mid \\cdots \\sim \\text{Dirichlet (alpha + sum(Indicator(y_i_j = v ,t_i_j = k)))}$\n",
    "   \n",
    "   \n",
    "\n",
    "\n",
    "\n",
    "3) If $y_{ij} = v^*$, \n",
    "$$\n",
    "    P(t_{ij} = k \\mid \\cdots) \\propto w_{ik} \\beta_{k, v^*}, \\quad k=1, \\ldots, K\n",
    "$$\n",
    "\n",
    "Hence, $t_{ij}$ is categorically-distributed with probabilities proportional to $w_{ik} \\beta_{k, v^*}$. We can sample $t_{ij}$ from a Categorical distribution after having computed the unnormalized probabilities for each $k$ and having normalized them."
   ]
  },
  {
   "cell_type": "code",
   "execution_count": 48,
   "metadata": {},
   "outputs": [],
   "source": [
    "# !pip3 install scikit-learn\n",
    "\n",
    "from sklearn.datasets import fetch_20newsgroups\n",
    "from sklearn.feature_extraction.text import CountVectorizer"
   ]
  },
  {
   "cell_type": "code",
   "execution_count": 49,
   "metadata": {},
   "outputs": [],
   "source": [
    "data = fetch_20newsgroups()[\"data\"]"
   ]
  },
  {
   "cell_type": "code",
   "execution_count": null,
   "metadata": {},
   "outputs": [],
   "source": [
    "data"
   ]
  },
  {
   "cell_type": "code",
   "execution_count": null,
   "metadata": {},
   "outputs": [],
   "source": [
    "## Some preprocessing.\n",
    "import re\n",
    "\n",
    "def preprocess_text(text):\n",
    "    \"Removes digits and weird punctuation\"\n",
    "    text = text.lower()\n",
    "    text = re.sub(r'\\d+', '', text)\n",
    "    text = re.sub(r'\\__', '', text)\n",
    "    text = re.sub(r'\\___', '', text)\n",
    "    return text\n",
    "\n",
    "vectorizer = CountVectorizer(\n",
    "    preprocessor=preprocess_text,\n",
    "    stop_words=\"english\",\n",
    "    strip_accents=\"unicode\",\n",
    "    max_df=0.95,\n",
    "    min_df=0.01,\n",
    "    max_features=500)\n",
    "\n",
    "vectorizer.fit(data)\n",
    "vectorizer.get_feature_names()[:50]"
   ]
  },
  {
   "cell_type": "code",
   "execution_count": null,
   "metadata": {},
   "outputs": [],
   "source": [
    "analyzer = vectorizer.build_analyzer()\n",
    "docs = []\n",
    "for doc in data:\n",
    "    tokens = analyzer(doc)\n",
    "    idxs = np.array(list(filter(\n",
    "        lambda x: x, \n",
    "        [vectorizer.vocabulary_.get(tok, None) for tok in tokens])))\n",
    "    docs.append(idxs)    "
   ]
  },
  {
   "cell_type": "markdown",
   "metadata": {},
   "source": [
    "## Docs is your final dataset, work only with it!\n",
    "\n",
    "docs is a list where every entry represents a document. A document is represented as a list of indexes (each work represents a word)"
   ]
  },
  {
   "cell_type": "code",
   "execution_count": null,
   "metadata": {},
   "outputs": [],
   "source": [
    "n_topics = 20\n",
    "voc_len = len(vectorizer.get_feature_names())\n",
    "\n",
    "corpus = {}\n",
    "for doc in docs:\n",
    "    for word in doc: \n",
    "        if word not in corpus:\n",
    "            corpus[word] = 1\n",
    "        else:\n",
    "            corpus[word] += 1\n",
    "max_w = np.max(list(corpus.keys()))\n",
    "prior = []\n",
    "tot_occurences = sum(corpus.values())\n",
    "for i in range(1,max_w):\n",
    "    prior.append(corpus[i]/tot_occurences)\n",
    "    \n",
    "alpha = prior\n"
   ]
  },
  {
   "cell_type": "code",
   "execution_count": null,
   "metadata": {},
   "outputs": [],
   "source": [
    "def lda_gibbs_sampler(docs):\n",
    "    \"\"\"\n",
    "    Parameters\n",
    "    ----------\n",
    "    docs: a list of np.arrays of integers, each represnts the \n",
    "        words in a document\n",
    "        \n",
    "    word_topics are the t_{ij}'s\n",
    "    voc_weights are the \\beta_k's\n",
    "    doc_weights are the w_i's\n",
    "    \"\"\"\n",
    "    \n",
    "    word_topics = [\n",
    "        tfd.Categorical(probs=np.ones(n_topics)).sample(len(x)) for x in docs]\n",
    "    voc_weights = tfd.Dirichlet(alpha).sample(n_topics)\n",
    "    doc_weights = tfd.Dirichlet(np.ones(n_topics) * 0.5).sample(len(docs))\n",
    "    \n",
    "    for i in range(300):\n",
    "        print(\"\\r{0} / {1}\".format(i+1, 300), flush=True, end=\" \")\n",
    "        word_topics, doc_weights, voc_weights = run_one_lda(\n",
    "            docs, word_topics, doc_weights, voc_weights)\n",
    "    return word_topics, doc_weights, voc_weights\n",
    "\n",
    "\n",
    "def run_one_lda(docs, word_topics, doc_weights, voc_weights):    \n",
    "    word_topics = update_word_topics(doc_weights, voc_weights, docs)\n",
    "    doc_weights = update_doc_weights(word_topics)\n",
    "    voc_weights = update_voc_weights(docs, word_topics)\n",
    "    return word_topics, doc_weights, voc_weights\n",
    "\n",
    "\n",
    "def update_voc_weights(docs, word_topics):\n",
    "    \"\"\"Updates \\beta_k for every k\"\"\"\n",
    "    out = np.zeros((n_topics, voc_len))\n",
    "    for k in range(n_topics):\n",
    "        # Get all the words whose topic is k (i.e. t_ij = k)\n",
    "        # Kept words is a np.array of integers with the indexes/words\n",
    "        # of all y_{ij} for which t_{ij} = k\n",
    "        mask = [np.where(x == k) for x in word_topics]\n",
    "        kept_words = np.concatenate([x[y] for x, y in zip(docs, mask)])\n",
    "        \n",
    "        # Returns the unique values in kept_words and their counts\n",
    "        # For instance if kept_words = [1, 1, 1, 0, 5, 4]\n",
    "        # --> idxs = [0, 1, 4, 5]\n",
    "        # --> counts = [1, 3, 1, 1]\n",
    "        idxs, counts = np.unique(kept_words, return_counts=True)\n",
    "        \n",
    "        dir_param = ???\n",
    "        out[k] = tfd.DISTRIBUTION(dir_param).sample()\n",
    "    return out\n",
    "\n",
    "\n",
    "def update_doc_weights(word_topics):\n",
    "    \"\"\"Updates w_i for every i\"\"\"\n",
    "    out = np.zeros((len(docs), n_topics))\n",
    "    for doc_ind, word_topic_in_doc in enumerate(word_topics):\n",
    "        # word_topic_in_doc is the doc_ind-th row of word_topics\n",
    "        \n",
    "        # cnt returns how many times each topic appears in each document\n",
    "        # i.e. cnt[k] is the number of words ind the doc_ind-th document\n",
    "        # that have topic k\n",
    "        cnt = np.sum(\n",
    "            word_topic_in_doc == np.arange(n_topics)[:, np.newaxis], axis=1)\n",
    "        \n",
    "        dir_param = ???\n",
    "        out[doc_ind] = tfd.DISTRIBUTION(dir_param).sample()\n",
    "    return out\n",
    "\n",
    "\n",
    "def update_word_topics(doc_weights, voc_weights, docs):\n",
    "    out = []\n",
    "    for i, doc in enumerate(docs):\n",
    "        # computes an [num_words x K] matrix with entries\n",
    "        # probas[l, m] beta_{m, v_l} * w_{i, m}\n",
    "        # where v_l is the word in position 'l'\n",
    "        # --> for each word (by row) represents the unnormalized probability\n",
    "        #     of each topic\n",
    "        probas = doc_weights[i][np.newaxis, :] * voc_weights[:, doc].T\n",
    "        \n",
    "        # normalize it approriately\n",
    "        probas = ???\n",
    "        out.append(tfd.Categorical(probs=probas).sample())\n",
    "        \n",
    "    return out"
   ]
  },
  {
   "cell_type": "code",
   "execution_count": null,
   "metadata": {},
   "outputs": [],
   "source": [
    "word_topics, doc_weights, voc_weights = lda_gibbs_sampler(docs[:5000])"
   ]
  },
  {
   "cell_type": "code",
   "execution_count": null,
   "metadata": {},
   "outputs": [],
   "source": [
    "for k in range(n_topics):\n",
    "    top_ind = np.argpartition(voc_weights[k, :], -10)[-10:]\n",
    "    print(\"Topic: {0}\".format(k))\n",
    "    print(\", \".join([vectorizer.get_feature_names()[ind] for ind in top_ind]))\n",
    "    print(\"\\n\\n\")"
   ]
  }
 ],
 "metadata": {
  "kernelspec": {
   "display_name": "Python 3",
   "language": "python",
   "name": "python3"
  },
  "language_info": {
   "codemirror_mode": {
    "name": "ipython",
    "version": 3
   },
   "file_extension": ".py",
   "mimetype": "text/x-python",
   "name": "python",
   "nbconvert_exporter": "python",
   "pygments_lexer": "ipython3",
   "version": "3.7.3"
  }
 },
 "nbformat": 4,
 "nbformat_minor": 5
}
