{
 "cells": [
  {
   "cell_type": "code",
   "execution_count": 2,
   "id": "2c9d26e7",
   "metadata": {
    "pycharm": {
     "is_executing": true
    }
   },
   "outputs": [],
   "source": [
    "import numpy as np\n",
    "import matplotlib.pyplot as plt\n",
    "from tensorflow_probability.substrates import numpy as tfp\n",
    "tfd = tfp.distributions\n"
   ]
  },
  {
   "cell_type": "code",
   "execution_count": 7,
   "id": "508b0564",
   "metadata": {},
   "outputs": [],
   "source": [
    "\n",
    "def perturb_normal_mixture(orig_means, orig_variances, orig_weights, \n",
    "                           comp_out=10000, alpha=500):\n",
    "    \"\"\"\n",
    "    Returns a perturbation of a mixture:\n",
    "    \n",
    "    Given a mixture\n",
    "            f(y) = \\sum_j w_j N(y | \\mu_j, \\Sigma_j)\n",
    "    returns\n",
    "            f'(y) = \\sum_k w'_k N(y | \\mu'_j, 0.2^2 * I)\n",
    "    where\n",
    "    1. mu'_k are the new location centers, obtained by sampling\n",
    "            c_k ~ Categorical(w_1, .. w_J)\n",
    "            mu'_k | c_k ~ N(mu_{c_k}, \\Sigma_{c_k})\n",
    "              for k=1, ... comp_out\n",
    "    2. w'_k are normalized weights (sum to 1) and their length\n",
    "       is `comp_out` \n",
    "           w_k ~ Dirichlet(alpha/comp_out)\n",
    "    \n",
    "    \"\"\"\n",
    "    univariate = len(orig_means.shape) == 1\n",
    "    \n",
    "    c_ks = np.random.choice(\n",
    "        len(orig_weights), size=comp_out, replace=True, p=orig_weights)\n",
    "    print(c_ks)\n",
    "    \n",
    "    if univariate:\n",
    "        locations = tfd.Normal(orig_means[c_ks], np.sqrt(orig_variances)[c_ks]).sample()\n",
    "        variances = np.ones(comp_out) * 0.2 ** 2\n",
    "    else:\n",
    "        locations = tfd.MultivariateNormalFullCovariance(\n",
    "            orig_means[c_ks], np.sqrt(orig_variances)[c_ks]).sample()\n",
    "        variances = np.stack([np.eye(orig_means.shape[1] * 0.2 ** 2)] * comp_out)\n",
    "    weights = tfd.Dirichlet(np.ones(comp_out) * alpha / comp_out).sample()\n",
    "    return locations, variances, weights\n",
    "\n",
    "def eval_univariate_mixture_dens(locations, variances, weights, xgrid):\n",
    "    eval_comps = tfd.Normal(locations, np.sqrt(variances)).prob(xgrid[:, np.newaxis])\n",
    "    return np.sum(eval_comps * weights, axis=1)\n"
   ]
  },
  {
   "cell_type": "code",
   "execution_count": 10,
   "id": "6062311e",
   "metadata": {},
   "outputs": [
    {
     "name": "stdout",
     "output_type": "stream",
     "text": [
      "[3 1 3 ... 3 2 2]\n"
     ]
    },
    {
     "data": {
      "text/plain": [
       "[<matplotlib.lines.Line2D at 0x24d1bcf1eb0>]"
      ]
     },
     "execution_count": 10,
     "metadata": {},
     "output_type": "execute_result"
    },
    {
     "data": {
      "image/png": "[encoded data removed]",
      "text/plain": [
       "<Figure size 432x288 with 1 Axes>"
      ]
     },
     "metadata": {
      "needs_background": "light"
     },
     "output_type": "display_data"
    }
   ],
   "source": [
    "\n",
    "true_mu = np.array([-3.5, 3, 0, 6])\n",
    "true_sigma = np.array([0.8, 0.5, 0.4, 0.5]) ** 2\n",
    "w_t = np.array([0.25, 0.25, 0.3, 0.2])\n",
    "\n",
    "pert_mu, pert_sigma, pert_w = perturb_normal_mixture(true_mu, true_sigma, w_t)\n",
    "\n",
    "xgrid = np.linspace(-10, 10, 1000)\n",
    "plt.plot(xgrid, eval_univariate_mixture_dens(true_mu, true_sigma, w_t, xgrid))\n",
    "plt.plot(xgrid, eval_univariate_mixture_dens(pert_mu, pert_sigma, pert_w , xgrid))"
   ]
  },
  {
   "cell_type": "code",
   "execution_count": 11,
   "id": "559c0b50",
   "metadata": {},
   "outputs": [
    {
     "data": {
      "text/plain": [
       "array([3.41736411e-09, 6.10866544e-06, 6.40636347e-06, 1.42129324e-35,\n",
       "       1.14837550e-15, 1.71003921e-05, 7.57496941e-10, 5.04870140e-08,\n",
       "       1.20934719e-08, 1.73890753e-09, 1.23398247e-19, 2.46507553e-14,\n",
       "       7.43246755e-07, 4.80054092e-05, 4.72295766e-30, 1.00638758e-07,\n",
       "       5.93761794e-08, 5.93831677e-04, 9.40677461e-08, 4.63055141e-07,\n",
       "       2.78782485e-08, 1.28220709e-13, 7.92061506e-15, 1.11059535e-13,\n",
       "       1.25753631e-28, 1.20421789e-03, 2.21156259e-08, 3.94469741e-11])"
      ]
     },
     "execution_count": 11,
     "metadata": {},
     "output_type": "execute_result"
    }
   ],
   "source": [
    "pert_mu[2:30]\n",
    "pert_w[2:30]"
   ]
  },
  {
   "cell_type": "code",
   "execution_count": 55,
   "id": "68e85923",
   "metadata": {},
   "outputs": [
    {
     "data": {
      "text/plain": [
       "0.9999999999999999"
      ]
     },
     "execution_count": 55,
     "metadata": {},
     "output_type": "execute_result"
    }
   ],
   "source": [
    "sum(pert_w)"
   ]
  }
 ],
 "metadata": {
  "kernelspec": {
   "display_name": "Python 3 (ipykernel)",
   "language": "python",
   "name": "python3"
  },
  "language_info": {
   "codemirror_mode": {
    "name": "ipython",
    "version": 3
   },
   "file_extension": ".py",
   "mimetype": "text/x-python",
   "name": "python",
   "nbconvert_exporter": "python",
   "pygments_lexer": "ipython3",
   "version": "3.8.10"
  }
 },
 "nbformat": 4,
 "nbformat_minor": 5
}
